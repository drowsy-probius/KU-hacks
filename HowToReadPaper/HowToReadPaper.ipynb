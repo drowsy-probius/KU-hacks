{
 "cells": [
  {
   "cell_type": "markdown",
   "id": "e60950bf-6619-4281-8ebf-d1bc0c7a3965",
   "metadata": {},
   "source": [
    "# Paper Information: <br><br>"
   ]
  },
  {
   "cell_type": "markdown",
   "id": "b700aed3",
   "metadata": {
    "jp-MarkdownHeadingCollapsed": true,
    "tags": []
   },
   "source": [
    "# First pass\n",
    "a quick scan (~ 5-10 minutes)\n",
    "1. Carefully read the title, abstract, and introduction\n",
    "2. Read the section and sub-section headings, but ignore everything else\n",
    "3. Read the conclusions\n",
    "4. Glance over the references, mentally ticking off the ones you’ve already read\n",
    "\n",
    "## Category \n",
    "(a measurement / an analysis of an existing system / a description of a research prototype / etc... )\n",
    "<br><br><br><br><br>\n",
    "## Context\n",
    "related papers, theoritical bases \n",
    "<br><br><br><br><br>\n",
    "## Correctness\n",
    "valid assumptions?\n",
    "<br><br><br><br><br>\n",
    "## Contributions\n",
    "main contributions of the paper\n",
    "<br><br><br><br><br>\n",
    "## Clarity\n",
    "Is the paper well written?\n",
    "<br><br><br><br><br>"
   ]
  },
  {
   "cell_type": "markdown",
   "id": "2c84e03a-672b-4aa1-be8c-e31a69f03280",
   "metadata": {},
   "source": [
    "# Second pass\n",
    "(~ 1 hour) ignore details such as proofs. <br>\n",
    "This level of detail is appropriate for a paper in which you are interested, but does not lie in your research speciality.\n",
    "1. Look carefully at the figures, diagrams and other illustrations in the paper. Pay special attention to graphs.\n",
    "2. Remember to mark relevant unread references for further reading (this is a good way to learn more about the background of the paper).\n",
    "\n",
    "## The main trust with supporting evidence\n",
    "<br><br><br><br><br>\n",
    "\n",
    "<i>\n",
    "Sometimes you won’t understand a paper even at the end of the second pass. You can now choose to:<br>\n",
    "(a) set the paper aside, hoping you don’t need to understand the material to be successful in your career, <br>\n",
    "(b) return to the paper later, perhaps after reading background material or <br>\n",
    "(c) persevere and go on to the third pass.\n",
    "</i>"
   ]
  },
  {
   "cell_type": "markdown",
   "id": "caa9f762-f495-4d33-9658-3a5b3aa73af0",
   "metadata": {},
   "source": [
    "# Third pass\n",
    "(~ 4-5 hours) identify and challenge every assumption in every statement.<br>\n",
    "To fully understand a paper, particularly if you are reviewer, requires a third pass.\n",
    "\n",
    "1. virtually re-implement the paper\n"
   ]
  },
  {
   "cell_type": "markdown",
   "id": "671ba0e2-38be-48a0-b07c-309cc1fd6a28",
   "metadata": {},
   "source": [
    "# Extra questions\n",
    "\n",
    "## 2 questions / problems about the paper\n",
    "### Q.<br>\n",
    "### A.\n",
    "<br><br><br>\n",
    "### Q.<br>\n",
    "### A.\n",
    "<br><br><br>\n",
    "\n",
    "## What did authors try to accomplish?\n",
    "<br><br><br><br><br>\n",
    "## What were the key elements of the approach?\n",
    "<br><br><br><br><br>\n",
    "## What can you use yourself?\n",
    "<br><br><br><br><br>\n",
    "## What other references do you want to follow?\n",
    "<br><br><br><br><br>"
   ]
  },
  {
   "cell_type": "markdown",
   "id": "6158ebbe-49d7-4ad5-b1e6-0ada7f48c43a",
   "metadata": {},
   "source": [
    "## References\n",
    "- [HowToReadPaper.pdf](https://web.stanford.edu/class/ee384m/Handouts/HowtoReadPaper.pdf)"
   ]
  }
 ],
 "metadata": {
  "kernelspec": {
   "display_name": "Python 3 (ipykernel)",
   "language": "python",
   "name": "python3"
  },
  "language_info": {
   "codemirror_mode": {
    "name": "ipython",
    "version": 3
   },
   "file_extension": ".py",
   "mimetype": "text/x-python",
   "name": "python",
   "nbconvert_exporter": "python",
   "pygments_lexer": "ipython3",
   "version": "3.10.5"
  }
 },
 "nbformat": 4,
 "nbformat_minor": 5
}
